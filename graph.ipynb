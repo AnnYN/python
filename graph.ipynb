{
 "cells": [
  {
   "cell_type": "code",
   "execution_count": null,
   "metadata": {},
   "outputs": [],
   "source": []
  },
  {
   "cell_type": "code",
   "execution_count": 80,
   "metadata": {},
   "outputs": [
    {
     "name": "stdout",
     "output_type": "stream",
     "text": [
      "broadth search first:\n",
      "    1  one  two  three  first  second  third  1  2  3  \n",
      "\n",
      "depth search first:\n",
      "    1  one  first  second  third  two  1  2  3  three  \n"
     ]
    }
   ],
   "source": [
    "from collections import deque\n",
    "\n",
    "\n",
    "class Graph:\n",
    "    def __init__(self, *order, **neighbor):\n",
    "        #把每个节点都表示为字典格式，key为父节点，values为它的叶子节点\n",
    "        self.order = []    \n",
    "        self.neighbor = {}\n",
    "\n",
    "    def add_node(self, node):\n",
    "        #node为tuple（key,val)，key表示父节点\n",
    "        #tuple中有两个变量，key表示父节点，val表示叶子结点\n",
    "        key,val = node\n",
    "        #检查输入数据，其中变量val必须为list格式\n",
    "        if not isinstance(val, list):\n",
    "            print('node value should be a list')        \n",
    "            #sys.exit('failed for wrong input')\n",
    "       \n",
    "        #key为neighbor的key,val是key对应的values\n",
    "        self.neighbor[key] = val\n",
    "\n",
    "#广度优先搜索\n",
    "    def broadth_first(self, root):\n",
    "        if root != None:\n",
    "            #设置一个序列，用来按照顺序存放需要搜索的结点\n",
    "            search_queue = deque()\n",
    "            search_queue.append(root)\n",
    "            \n",
    "            #设置一个序列，用来存放已经搜索过的结点\n",
    "            visited = []\n",
    "        else:\n",
    "            print('root is None')\n",
    "            return -1\n",
    "\n",
    "        #从搜索序列中从左边取出需要进行搜索的结点\n",
    "        while search_queue:\n",
    "            person = search_queue.popleft()\n",
    "            self.order.append(person)\n",
    "\n",
    "            #当节点没有被访问过并且它有叶子结点的时候，把叶子结点添加到搜索序列中，并且把这个结点append到\n",
    "            #visited中\n",
    "            if (not person in visited) and (person in self.neighbor.keys()):\n",
    "                #search_queue.append(self.neighbor[person])\n",
    "                search_queue += self.neighbor[person]\n",
    "                visited.append(person)\n",
    "\n",
    "#深度优先搜索    \n",
    "    def depth_first(self, root):\n",
    "        if root != None:\n",
    "            search_queue = deque()\n",
    "            search_queue.append(root)\n",
    "\n",
    "            visited = []\n",
    "        else:\n",
    "            print('root is None')\n",
    "            return -1\n",
    "        \n",
    "        while search_queue:\n",
    "            person = search_queue.popleft()\n",
    "            self.order.append(person)\n",
    "\n",
    "            if (not person in visited) and (person in self.neighbor.keys()):\n",
    "                tmp = self.neighbor[person]\n",
    "                #需要将tmp反转\n",
    "                tmp.reverse()\n",
    "\n",
    "                for index in tmp:\n",
    "                    #从左边append进去\n",
    "                    search_queue.appendleft(index)\n",
    "\n",
    "                visited.append(person)\n",
    "                #self.order.append(person)\n",
    "\n",
    "\n",
    "    def clear(self):\n",
    "        self.order = []\n",
    "\n",
    "\n",
    "    def node_print(self):\n",
    "        for index in self.order:\n",
    "            print(index, end='  ') \n",
    "\n",
    "if __name__ == '__main__':\n",
    "    g = Graph()\n",
    "    g.add_node(('1',['one', 'two','three']))\n",
    "    g.add_node(('one',['first','second','third']))\n",
    "    g.add_node(('two',['1','2','3']))\n",
    "\n",
    "    g.broadth_first('1')\n",
    " \n",
    "    print('broadth search first:') \n",
    "    print('  ', end='  ')\n",
    "    g.node_print()\n",
    "    \n",
    "    g.clear()\n",
    "\n",
    "    print('\\n\\ndepth search first:') \n",
    "    print('  ', end='  ')\n",
    "    g.depth_first('1')\n",
    "\n",
    "    g.node_print()\n",
    "    print() \n"
   ]
  },
  {
   "cell_type": "code",
   "execution_count": 26,
   "metadata": {},
   "outputs": [],
   "source": [
    "isinstance?"
   ]
  },
  {
   "cell_type": "code",
   "execution_count": 12,
   "metadata": {},
   "outputs": [
    {
     "data": {
      "text/plain": [
       "list"
      ]
     },
     "execution_count": 12,
     "metadata": {},
     "output_type": "execute_result"
    }
   ],
   "source": [
    "s=[]\n",
    "type(s)"
   ]
  },
  {
   "cell_type": "code",
   "execution_count": null,
   "metadata": {},
   "outputs": [],
   "source": []
  },
  {
   "cell_type": "code",
   "execution_count": 54,
   "metadata": {},
   "outputs": [
    {
     "name": "stdout",
     "output_type": "stream",
     "text": [
      "[1, 2, 3]\n"
     ]
    },
    {
     "data": {
      "text/plain": [
       "list"
      ]
     },
     "execution_count": 54,
     "metadata": {},
     "output_type": "execute_result"
    }
   ],
   "source": [
    "s={1:[1,2,3]}\n",
    "print(s[1])\n",
    "type(s[1])"
   ]
  },
  {
   "cell_type": "code",
   "execution_count": 35,
   "metadata": {},
   "outputs": [
    {
     "data": {
      "text/plain": [
       "tuple"
      ]
     },
     "execution_count": 35,
     "metadata": {},
     "output_type": "execute_result"
    }
   ],
   "source": [
    "s=('1',['one', 'two','three'])\n",
    "type(s)"
   ]
  },
  {
   "cell_type": "code",
   "execution_count": 36,
   "metadata": {},
   "outputs": [
    {
     "data": {
      "text/plain": [
       "['one', 'two', 'three']"
      ]
     },
     "execution_count": 36,
     "metadata": {},
     "output_type": "execute_result"
    }
   ],
   "source": [
    "s[1]"
   ]
  },
  {
   "cell_type": "code",
   "execution_count": 51,
   "metadata": {},
   "outputs": [
    {
     "name": "stdout",
     "output_type": "stream",
     "text": [
      "1\n",
      "['one', 'two', 'three']\n"
     ]
    }
   ],
   "source": [
    "key,val,=s\n",
    "print(key)\n",
    "print(val)"
   ]
  },
  {
   "cell_type": "code",
   "execution_count": 52,
   "metadata": {},
   "outputs": [
    {
     "data": {
      "text/plain": [
       "True"
      ]
     },
     "execution_count": 52,
     "metadata": {},
     "output_type": "execute_result"
    }
   ],
   "source": [
    "isinstance(s,tuple)#"
   ]
  },
  {
   "cell_type": "code",
   "execution_count": 63,
   "metadata": {},
   "outputs": [
    {
     "name": "stdout",
     "output_type": "stream",
     "text": [
      "['c', 'b', 'a']\n"
     ]
    }
   ],
   "source": [
    "s={1:['a','b','c']}\n",
    "t=s[1]\n",
    "l=deque()\n",
    "t.reverse()\n",
    "print(t)\n",
    "l.appendleft(t)"
   ]
  },
  {
   "cell_type": "code",
   "execution_count": 65,
   "metadata": {},
   "outputs": [
    {
     "name": "stdout",
     "output_type": "stream",
     "text": [
      "deque(['a', 'b', 'c', 'a', 'b', 'c', ['c', 'b', 'a']])\n"
     ]
    }
   ],
   "source": [
    "for inx in t:\n",
    "    l.appendleft(inx)\n",
    "print(l)"
   ]
  },
  {
   "cell_type": "code",
   "execution_count": null,
   "metadata": {},
   "outputs": [],
   "source": []
  },
  {
   "cell_type": "code",
   "execution_count": null,
   "metadata": {},
   "outputs": [],
   "source": [
    "from collections import deque\n",
    "\n",
    "class Graph:\n",
    "    def __init__(self,*order,**neighbor):\n",
    "        self.order = []\n",
    "        self.neighbor = {}\n",
    "\n",
    "    def add_node(self,node):\n",
    "        key,val = node\n",
    "        if not isinstance(val,list):\n",
    "            print(\"node value shuold be a list\")\n",
    "        self.neighbor[key] = val\n",
    "\n",
    "    #广度优先算法\n",
    "    def broadth_first(self,root):\n",
    "        if  root != None:\n",
    "            search_queue = deque()\n",
    "            search_queue.append(root)\n",
    "            visited = []\n",
    "        else:\n",
    "            print(\"root is none\")\n",
    "            return -1\n",
    "        while search_queue:\n",
    "            person = search_queue.popleft()\n",
    "            self.order.append(person)\n",
    "\n",
    "            if (not person in visited) and (person in self.neighbor.keys()):\n",
    "                search_queue += self.neighbor[person]\n",
    "                visited.append(person)\n",
    "\n",
    "    #深度优先算法\n",
    "    def depth_first(self,root):\n",
    "            if root != None:\n",
    "                search_queue = deque()\n",
    "                search_queue.append(root)\n",
    "                \n",
    "                visited = []\n",
    "            else:\n",
    "                print(\"root is none\")\n",
    "                return -1\n",
    "            while search_queue:\n",
    "                person = search_queue.popleft()\n",
    "                self.order.append(person)\n",
    "\n",
    "\n",
    "                if (not person in visited) and (person in self.neighbor.keys()):\n",
    "                    tmp = self.neighbor[person]\n",
    "                    tmp.reverse()\n",
    "                for inx in tmp:\n",
    "                    search_queue.appendleft(inx)\n",
    "                    \n",
    "                visited.append(person)\n",
    "\n",
    "    def clear(self):\n",
    "        self.order = []\n",
    "\n",
    "    def node_print(self):\n",
    "        for index in self.order:\n",
    "            print(index,end = ' ')\n",
    "\n",
    "if __name__ == '__main__':#为什么？\n",
    "    g = Graph()\n",
    "    g.add_node(('1', ['one', 'two', 'three']))\n",
    "    g.add_node(('one', ['first', 'second', 'third']))\n",
    "    g.add_node(('two', ['1', '2', '3']))\n",
    "\n",
    "    g.broadth_first('1')\n",
    "\n",
    "    print('broadth search first:')\n",
    "    print('  ', end='  ')\n",
    "    g.node_print()\n",
    "\n",
    "    g.clear()\n",
    "\n",
    "    g.depth_first('1')\n",
    "    \n",
    "    print('\\n\\ndepth search first:')\n",
    "    print('  ', end='  ')\n",
    "  \n",
    "    g.node_print()\n",
    "  \n"
   ]
  },
  {
   "cell_type": "code",
   "execution_count": null,
   "metadata": {},
   "outputs": [],
   "source": [
    "if __name__ == '__main__':#为什么？"
   ]
  },
  {
   "cell_type": "code",
   "execution_count": null,
   "metadata": {},
   "outputs": [],
   "source": []
  }
 ],
 "metadata": {
  "kernelspec": {
   "display_name": "Python 3",
   "language": "python",
   "name": "python3"
  },
  "language_info": {
   "codemirror_mode": {
    "name": "ipython",
    "version": 3
   },
   "file_extension": ".py",
   "mimetype": "text/x-python",
   "name": "python",
   "nbconvert_exporter": "python",
   "pygments_lexer": "ipython3",
   "version": "3.6.4"
  }
 },
 "nbformat": 4,
 "nbformat_minor": 2
}
