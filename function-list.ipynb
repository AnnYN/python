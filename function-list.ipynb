{
 "cells": [
  {
   "cell_type": "code",
   "execution_count": 4,
   "metadata": {},
   "outputs": [
    {
     "name": "stdout",
     "output_type": "stream",
     "text": [
      "Hello, Yanan!\n",
      "Hello, Guoying!\n",
      "Hello, Liuqing!\n"
     ]
    }
   ],
   "source": [
    "#function a list\n",
    "def greet_users(names):\n",
    "    for name in names:\n",
    "        print(\"Hello, \"+name.title()+\"!\")\n",
    "user_names=['yanan','guoying','liuqing']\n",
    "greet_users(user_names)"
   ]
  },
  {
   "cell_type": "code",
   "execution_count": 7,
   "metadata": {},
   "outputs": [
    {
     "name": "stdout",
     "output_type": "stream",
     "text": [
      "Printing model:dodecahedron\n",
      "Printing model:robot pendant\n",
      "Printing model:iphone case\n",
      "\n",
      "The following models have been printed\n",
      "dodecahedron\n",
      "robot pendant\n",
      "iphone case\n"
     ]
    }
   ],
   "source": [
    "#Modifying a List in a Function\n",
    "#Consider a company that creates 3D printed models of designs that users submit.\n",
    "#Designs that need to be printed are stored in a list, and after being printed \n",
    "#they’re moved to a separate list\n",
    "unprinted_designs = ['iphone case', 'robot pendant', 'dodecahedron']\n",
    "completed_models = []\n",
    "# 将带打印模型取出打印，并将完成打印的项目搬到已完成列表中\n",
    "while unprinted_designs:\n",
    "    current_design=unprinted_designs.pop()\n",
    "    print(\"Printing model:\"+current_design)\n",
    "    completed_models.append(current_design)\n",
    " #展示所有已完成打印的模型\n",
    "print(\"\\nThe following models have been printed\")\n",
    "for completed_model in completed_models:\n",
    "    print(completed_model)"
   ]
  },
  {
   "cell_type": "code",
   "execution_count": 15,
   "metadata": {},
   "outputs": [
    {
     "name": "stdout",
     "output_type": "stream",
     "text": [
      "Printing model:dodecahedron\n",
      "Printing model:robot pendant\n",
      "Printing model:iphone case\n",
      "dodecahedron\n",
      "robot pendant\n",
      "iphone case\n",
      "[]\n"
     ]
    }
   ],
   "source": [
    "#使用一种更有效的方式\n",
    "# function simulates printing each design by emptying the list\n",
    "#of unprinted designs and  lling up the list of completed models\n",
    "def print_models(unprinted_designs,completed_model):\n",
    "    while unprinted_designs:\n",
    "        current_design=unprinted_designs.pop()\n",
    "        print(\"Printing model:\"+current_design)\n",
    "        completed_models.append(current_design)\n",
    "def show_completed_models(completed_models):\n",
    "    for completed_model in completed_models:\n",
    "        print(completed_model)\n",
    "unprinted_designs = ['iphone case', 'robot pendant', 'dodecahedron']\n",
    "completed_models = []\n",
    "print_models(unprinted_designs, completed_models)\n",
    "show_completed_models(completed_models)\n",
    "print(unprinted_designs)"
   ]
  },
  {
   "cell_type": "code",
   "execution_count": 27,
   "metadata": {},
   "outputs": [
    {
     "ename": "SyntaxError",
     "evalue": "invalid syntax (<ipython-input-27-393d69660c2c>, line 2)",
     "output_type": "error",
     "traceback": [
      "\u001b[0;36m  File \u001b[0;32m\"<ipython-input-27-393d69660c2c>\"\u001b[0;36m, line \u001b[0;32m2\u001b[0m\n\u001b[0;31m    def print_models(unprinted_designs[:], completed_models):\u001b[0m\n\u001b[0m                                      ^\u001b[0m\n\u001b[0;31mSyntaxError\u001b[0m\u001b[0;31m:\u001b[0m invalid syntax\n"
     ]
    }
   ],
   "source": [
    "#Preventing a Function from Modifying a List(错错错)\n",
    "def print_models(unprinted_designs[:], completed_models):\n",
    "    while unprinted_designs:\n",
    "        current_design=unprinted_designs.pop()\n",
    "        print(\"Printing model:\"+current_design)\n",
    "        completed_models.append(current_design)\n",
    "def show_completed_models(completed_models):\n",
    "    for completed_model in completed_models:\n",
    "        print(completed_model)\n",
    "unprinted_designs = ['iphone case', 'robot pendant', 'dodecahedron']\n",
    "completed_models = []\n",
    "print_models(unprinted_designs, completed_models)\n",
    "show_completed_models(completed_models)\n",
    "print(unprinted_designs)"
   ]
  },
  {
   "cell_type": "code",
   "execution_count": 25,
   "metadata": {},
   "outputs": [
    {
     "name": "stdout",
     "output_type": "stream",
     "text": [
      "liuqian\n",
      "jayzhou\n",
      "yananliu\n"
     ]
    }
   ],
   "source": [
    "# 练习题1\n",
    "def show_magicians(names):\n",
    "    for name in names:\n",
    "        print(name)\n",
    "names=['liuqian','jayzhou','yananliu']\n",
    "show_magicians(names)"
   ]
  },
  {
   "cell_type": "code",
   "execution_count": 31,
   "metadata": {},
   "outputs": [
    {
     "name": "stdout",
     "output_type": "stream",
     "text": [
      "Great liuqian\n",
      "Great jayzhou\n",
      "Great yananliu\n",
      "liuqian\n",
      "jayzhou\n",
      "yananliu\n"
     ]
    }
   ],
   "source": [
    "#练习题2\n",
    "def make_great(names,great_names):\n",
    "    for name in names:\n",
    "        current_name=\"Great \"+name\n",
    "        great_names.append(current_name)\n",
    "def show_magicians(names):\n",
    "    for name in names:\n",
    "        print(name)\n",
    "names=['liuqian','jayzhou','yananliu']\n",
    "great_names=[]\n",
    "make_great(names,great_names)\n",
    "show_magicians(great_names)\n",
    "show_magicians(names)"
   ]
  },
  {
   "cell_type": "code",
   "execution_count": null,
   "metadata": {},
   "outputs": [],
   "source": []
  },
  {
   "cell_type": "code",
   "execution_count": null,
   "metadata": {},
   "outputs": [],
   "source": []
  }
 ],
 "metadata": {
  "kernelspec": {
   "display_name": "Python 3",
   "language": "python",
   "name": "python3"
  },
  "language_info": {
   "codemirror_mode": {
    "name": "ipython",
    "version": 3
   },
   "file_extension": ".py",
   "mimetype": "text/x-python",
   "name": "python",
   "nbconvert_exporter": "python",
   "pygments_lexer": "ipython3",
   "version": "3.6.4"
  }
 },
 "nbformat": 4,
 "nbformat_minor": 2
}
