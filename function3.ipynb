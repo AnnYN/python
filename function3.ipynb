{
 "cells": [
  {
   "cell_type": "code",
   "execution_count": 14,
   "metadata": {},
   "outputs": [
    {
     "name": "stdout",
     "output_type": "stream",
     "text": [
      "Liu Ya Nan\n",
      "Leng Jun\n"
     ]
    }
   ],
   "source": [
    "#Making an Argument Optional\n",
    "def get_formatted_name(first_name,last_name,middle_name=''):\n",
    "    if middle_name:\n",
    "        full_name=first_name+\" \"+middle_name+\" \"+last_name\n",
    "    else:\n",
    "        full_name=first_name+\" \"+last_name\n",
    "    return full_name.title()\n",
    "singer=get_formatted_name('liu','nan','ya')\n",
    "print(singer)\n",
    "drawer=get_formatted_name('leng','jun')\n",
    "print(drawer)"
   ]
  },
  {
   "cell_type": "code",
   "execution_count": 18,
   "metadata": {},
   "outputs": [
    {
     "name": "stdout",
     "output_type": "stream",
     "text": [
      "{'first': '杜', 'last': '娟', 'age': 24}\n"
     ]
    }
   ],
   "source": [
    "#return a dictionary\n",
    "def build_person(first_name,last_name,age=''):\n",
    "    person={'first':first_name,'last':last_name}\n",
    "    if age:\n",
    "        person['age']=age\n",
    "    return person\n",
    "musician=build_person('杜','娟',24)\n",
    "print(musician)\n",
    "#function takes in simple textual information and puts it into a more meaningful data structure\n",
    "#that lets you work with the information beyond just printing it"
   ]
  },
  {
   "cell_type": "code",
   "execution_count": 2,
   "metadata": {},
   "outputs": [
    {
     "name": "stdout",
     "output_type": "stream",
     "text": [
      "\n",
      "Please tell me your name:\n",
      "enter 'q' at any time to quit\n",
      "Fist name:liu\n",
      "Last name:wen\n",
      "\n",
      "Hello,Liu Wen!\n",
      "\n",
      "Please tell me your name:\n",
      "enter 'q' at any time to quit\n",
      "Fist name:q\n"
     ]
    }
   ],
   "source": [
    "#Using a Function with a while Loop\n",
    "def get_formatted_name(first_name, last_name):\n",
    "    full_name = first_name + ' ' + last_name\n",
    "    return full_name.title()\n",
    "while True:\n",
    "    print(\"\\nPlease tell me your name:\")\n",
    "    print(\"enter 'q' at any time to quit\")\n",
    "    f_name=input(\"Fist name:\")\n",
    "    if f_name=='q':\n",
    "        break\n",
    "    l_name=input(\"Last name:\")\n",
    "    if l_name=='q':\n",
    "        break\n",
    "    formatted_name=get_formatted_name(f_name,l_name)\n",
    "    print(\"\\nHello,\"+formatted_name+\"!\")"
   ]
  },
  {
   "cell_type": "code",
   "execution_count": null,
   "metadata": {},
   "outputs": [],
   "source": []
  },
  {
   "cell_type": "code",
   "execution_count": 4,
   "metadata": {},
   "outputs": [
    {
     "name": "stdout",
     "output_type": "stream",
     "text": [
      "\n",
      "please enter the city name and the country name:\n",
      "(enter 'q' at any time to quit)\n",
      "city:beijing\n",
      "country:china\n",
      "Beijing,China\n",
      "\n",
      "please enter the city name and the country name:\n",
      "(enter 'q' at any time to quit)\n",
      "city:q\n"
     ]
    }
   ],
   "source": [
    "#练习city names\n",
    "def city_country(city_name,country_name):\n",
    "    print(city_name.title()+\",\"+ country_name.title())\n",
    "while True:\n",
    "    print(\"\\nplease enter the city name and the country name:\")\n",
    "    print(\"(enter 'q' at any time to quit)\")\n",
    "    city=input(\"city:\")\n",
    "    if city=='q':\n",
    "        break\n",
    "    country=input(\"country:\")\n",
    "    if country=='q':\n",
    "        break\n",
    "    describe=city_country(city,country)"
   ]
  },
  {
   "cell_type": "code",
   "execution_count": 5,
   "metadata": {},
   "outputs": [
    {
     "data": {
      "text/plain": [
       "{'album': 'latex', 'artist': 'guoying'}"
      ]
     },
     "execution_count": 5,
     "metadata": {},
     "output_type": "execute_result"
    }
   ],
   "source": [
    "#练习user_album\n",
    "def make_album(artist_name,album_name):\n",
    "    album={\"artist\":artist_name,\"album\":album_name}\n",
    "    return album\n",
    "make_album('guoying','latex')"
   ]
  },
  {
   "cell_type": "code",
   "execution_count": 6,
   "metadata": {},
   "outputs": [
    {
     "name": "stdout",
     "output_type": "stream",
     "text": [
      "Please enter the artist name and the album name\n",
      "enter 'q' at any time you want to quit\n",
      "artist_name:adele\n",
      "album_name:hello\n",
      "{'artist': 'adele', 'album': 'hello'}\n",
      "Please enter the artist name and the album name\n",
      "enter 'q' at any time you want to quit\n",
      "artist_name:q\n"
     ]
    }
   ],
   "source": [
    "#练习:加入while loop\n",
    "def make_album(artist_name,album_name):\n",
    "    album={\"artist\":artist_name,\"album\":album_name}\n",
    "    return album\n",
    "while True:\n",
    "    print(\"Please enter the artist name and the album name\")\n",
    "    print(\"enter 'q' at any time you want to quit\")\n",
    "    artist=input(\"artist_name:\")\n",
    "    if artist=='q':\n",
    "        break\n",
    "    album=input(\"album_name:\")\n",
    "    if album=='q':\n",
    "        break\n",
    "    myf=make_album(artist,album)\n",
    "    print(myf)"
   ]
  },
  {
   "cell_type": "code",
   "execution_count": null,
   "metadata": {},
   "outputs": [],
   "source": []
  }
 ],
 "metadata": {
  "kernelspec": {
   "display_name": "Python 3",
   "language": "python",
   "name": "python3"
  },
  "language_info": {
   "codemirror_mode": {
    "name": "ipython",
    "version": 3
   },
   "file_extension": ".py",
   "mimetype": "text/x-python",
   "name": "python",
   "nbconvert_exporter": "python",
   "pygments_lexer": "ipython3",
   "version": "3.6.4"
  }
 },
 "nbformat": 4,
 "nbformat_minor": 2
}
