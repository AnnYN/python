{
 "cells": [
  {
   "cell_type": "code",
   "execution_count": 13,
   "metadata": {},
   "outputs": [
    {
     "name": "stdout",
     "output_type": "stream",
     "text": [
      "('pepperoni',)\n",
      "('mushrooms', 'green peppers', 'extra cheese')\n"
     ]
    }
   ],
   "source": [
    "#Passing an arbitrary number of arguments\n",
    "def make_pizza(*toppings):\n",
    "    print(toppings)\n",
    "make_pizza('pepperoni')\n",
    "make_pizza('mushrooms', 'green peppers', 'extra cheese')"
   ]
  },
  {
   "cell_type": "code",
   "execution_count": 2,
   "metadata": {},
   "outputs": [
    {
     "name": "stdout",
     "output_type": "stream",
     "text": [
      "\n",
      "Making a pizza with the following toppings\n",
      "-pepperoni\n",
      "\n",
      "Making a pizza with the following toppings\n",
      "-mushrooms\n",
      "-green peppers\n",
      "-extra cheese\n"
     ]
    }
   ],
   "source": [
    "#Mixing Positional and Arbitrary Arguments\n",
    "def make_pizza(*toppings):\n",
    "    print(\"\\nMaking a pizza with the following toppings\")\n",
    "    for topping in toppings:\n",
    "        print(\"-\"+topping)\n",
    "make_pizza('pepperoni')\n",
    "make_pizza('mushrooms', 'green peppers', 'extra cheese')"
   ]
  },
  {
   "cell_type": "code",
   "execution_count": 4,
   "metadata": {},
   "outputs": [
    {
     "name": "stdout",
     "output_type": "stream",
     "text": [
      "\n",
      "Making a 16-inch with the following toppings\n",
      "-pepperoni\n",
      "\n",
      "Making a 12-inch with the following toppings\n",
      "-mushrooms\n",
      "-green peppers\n",
      "-extra cheese\n"
     ]
    }
   ],
   "source": [
    "def make_pizza(size,*toppings):# 注意参数位置先后问题\n",
    "    print(\"\\nMaking a \"+str(size)+ \"-inch with the following toppings\")\n",
    "    for topping in toppings:\n",
    "        print(\"-\"+topping)\n",
    "make_pizza(16,'pepperoni')\n",
    "make_pizza(12,'mushrooms', 'green peppers', 'extra cheese')"
   ]
  },
  {
   "cell_type": "code",
   "execution_count": 10,
   "metadata": {},
   "outputs": [
    {
     "name": "stdout",
     "output_type": "stream",
     "text": [
      "{'first name:': 'albert', 'last name': 'einstein', 'location': 'princeton', 'field': 'physics'}\n"
     ]
    }
   ],
   "source": [
    "#Using Arbitrary Keyword Arguments\n",
    "def build_profile(first,last,**user_info):\n",
    "    profile={}\n",
    "    profile['first name:']=first\n",
    "    profile['last name']=last\n",
    "    for key, value in user_info.items():\n",
    "        profile[key]=value\n",
    "    return profile\n",
    "user_profile = build_profile('albert', 'einstein',location='princeton', field='physics')\n",
    "print(user_profile)\n",
    "   "
   ]
  },
  {
   "cell_type": "code",
   "execution_count": 17,
   "metadata": {},
   "outputs": [
    {
     "name": "stdout",
     "output_type": "stream",
     "text": [
      "('pepperoni',)\n",
      "('mushrooms', 'green peppers', 'extra cheese')\n"
     ]
    }
   ],
   "source": [
    "#Sandwiches:\n",
    "def make_sandwiches(*toppings):\n",
    "    print(toppings)\n",
    "make_sandwiches('pepperoni')\n",
    "make_sandwiches('mushrooms', 'green peppers', 'extra cheese')"
   ]
  },
  {
   "cell_type": "code",
   "execution_count": 20,
   "metadata": {},
   "outputs": [
    {
     "name": "stdout",
     "output_type": "stream",
     "text": [
      "{'first name': 'albert', 'last name': 'einstein', 'location': 'princeton', 'field': 'physics'}\n"
     ]
    }
   ],
   "source": [
    "#User Profile\n",
    "def build_profile(first_name,last_name,**user_info):\n",
    "    profile={}\n",
    "    profile['first name']=first_name\n",
    "    profile['last name']=last_name\n",
    "    for key,value in user_info.items():\n",
    "        profile[key]=value\n",
    "    return profile\n",
    "user_profile = build_profile('albert', 'einstein',location='princeton', field='physics')\n",
    "print(user_profile)"
   ]
  },
  {
   "cell_type": "code",
   "execution_count": null,
   "metadata": {},
   "outputs": [],
   "source": []
  }
 ],
 "metadata": {
  "kernelspec": {
   "display_name": "Python 3",
   "language": "python",
   "name": "python3"
  },
  "language_info": {
   "codemirror_mode": {
    "name": "ipython",
    "version": 3
   },
   "file_extension": ".py",
   "mimetype": "text/x-python",
   "name": "python",
   "nbconvert_exporter": "python",
   "pygments_lexer": "ipython3",
   "version": "3.6.4"
  }
 },
 "nbformat": 4,
 "nbformat_minor": 2
}
