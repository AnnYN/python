{
 "cells": [
  {
   "cell_type": "code",
   "execution_count": 8,
   "metadata": {},
   "outputs": [
    {
     "name": "stdout",
     "output_type": "stream",
     "text": [
      "The size of the T-shirt is small and the text is women.\n",
      "The size of the T-shirt is small and the text is man.\n"
     ]
    }
   ],
   "source": [
    "#练习\n",
    "def make_shirt(size,message):\n",
    "    print(\"The size of the T-shirt is \"+size+\" and the text is \"+message+\".\" )\n",
    "make_shirt('small','women')#positional arguments\n",
    "make_shirt(size='small',message='man')#key arguments"
   ]
  },
  {
   "cell_type": "code",
   "execution_count": 25,
   "metadata": {},
   "outputs": [
    {
     "name": "stdout",
     "output_type": "stream",
     "text": [
      "The size of the T-shirt is large and the text is I love python.\n",
      "The size of the T-shirt is medium and the text is I love python.\n",
      "The size of the T-shirt is small and the text is I love R.\n"
     ]
    }
   ],
   "source": [
    "# 练习/设置默认值\n",
    "def make_shirt(size,message='I love python'):\n",
    "    print(\"The size of the T-shirt is \"+size+\" and the text is \"+message+\".\" )\n",
    "make_shirt('large')\n",
    "make_shirt('medium')\n",
    "make_shirt('small','I love R')"
   ]
  },
  {
   "cell_type": "code",
   "execution_count": 35,
   "metadata": {},
   "outputs": [
    {
     "name": "stdout",
     "output_type": "stream",
     "text": [
      "Beijing is in china\n",
      "Wuhan is in china\n",
      "Jingdu is in japan\n"
     ]
    }
   ],
   "source": [
    "#练习/描述一个城市和国家\n",
    "def descirbe_city(city,country='china'):\n",
    "    print(city.title()+\" is in \"+country)\n",
    "descirbe_city('beijing')\n",
    "descirbe_city('wuhan')\n",
    "descirbe_city('jingdu','japan')"
   ]
  },
  {
   "cell_type": "code",
   "execution_count": 36,
   "metadata": {},
   "outputs": [
    {
     "name": "stdout",
     "output_type": "stream",
     "text": [
      "Jim Smith\n"
     ]
    }
   ],
   "source": [
    "#return a simple value\n",
    "def get_formatted_name(firstname,lastname):\n",
    "    full_name=firstname + ' '+ lastname\n",
    "    return full_name.title()\n",
    "teacher=get_formatted_name('jim','smith')\n",
    "print(teacher)"
   ]
  },
  {
   "cell_type": "code",
   "execution_count": null,
   "metadata": {},
   "outputs": [],
   "source": []
  }
 ],
 "metadata": {
  "kernelspec": {
   "display_name": "Python 3",
   "language": "python",
   "name": "python3"
  },
  "language_info": {
   "codemirror_mode": {
    "name": "ipython",
    "version": 3
   },
   "file_extension": ".py",
   "mimetype": "text/x-python",
   "name": "python",
   "nbconvert_exporter": "python",
   "pygments_lexer": "ipython3",
   "version": "3.6.4"
  }
 },
 "nbformat": 4,
 "nbformat_minor": 2
}
