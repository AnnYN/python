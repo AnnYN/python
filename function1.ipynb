{
 "cells": [
  {
   "cell_type": "code",
   "execution_count": 3,
   "metadata": {},
   "outputs": [
    {
     "name": "stdout",
     "output_type": "stream",
     "text": [
      "Hello!\n"
     ]
    }
   ],
   "source": [
    "#hello\n",
    "def greet_user():\n",
    "    \"\"\"Display a simple greeting.\"\"\"\n",
    "    print(\"Hello!\")\n",
    "greet_user()"
   ]
  },
  {
   "cell_type": "code",
   "execution_count": 9,
   "metadata": {},
   "outputs": [
    {
     "name": "stdout",
     "output_type": "stream",
     "text": [
      "Hello Yanan !\n"
     ]
    }
   ],
   "source": [
    "#Passing Information to a Function\n",
    "def greet_user(usrname):#username is variable\n",
    "    print(\"Hello \"+ usrname.title() +\" !\")\n",
    "greet_user('yanan')#yanan is argument"
   ]
  },
  {
   "cell_type": "code",
   "execution_count": 10,
   "metadata": {},
   "outputs": [
    {
     "name": "stdout",
     "output_type": "stream",
     "text": [
      "you are learning chapter one: defining function\n"
     ]
    }
   ],
   "source": [
    "#message练习\n",
    "def display_message():\n",
    "    print(\"you are learning chapter one: defining function\")\n",
    "display_message()"
   ]
  },
  {
   "cell_type": "code",
   "execution_count": 13,
   "metadata": {},
   "outputs": [
    {
     "name": "stdout",
     "output_type": "stream",
     "text": [
      "One of my favorite book is Algebra\n"
     ]
    }
   ],
   "source": [
    "# favorite book 练习\n",
    "def favorite_book(bookname):\n",
    "    print(\"One of my favorite book is \"+bookname.title())\n",
    "favorite_book('algebra')   "
   ]
  },
  {
   "cell_type": "code",
   "execution_count": 19,
   "metadata": {},
   "outputs": [
    {
     "name": "stdout",
     "output_type": "stream",
     "text": [
      "\n",
      "There is a dog.\n",
      "The dog's name is Liweinan.\n",
      "\n",
      "There is a pig.\n",
      "The pig's name is Mamawokun.\n"
     ]
    }
   ],
   "source": [
    "#positional arguments\n",
    "def describe_pet(animal_type,animal_name):\n",
    "    print(\"\\nThere is a \"+animal_type+\".\")\n",
    "    print(\"The \"+animal_type+\"'s name is \"+animal_name.title()+\".\")\n",
    "describe_pet('dog','liweinan')\n",
    "describe_pet('pig','mamawokun')"
   ]
  },
  {
   "cell_type": "code",
   "execution_count": 20,
   "metadata": {},
   "outputs": [
    {
     "name": "stdout",
     "output_type": "stream",
     "text": [
      "\n",
      "There is a bird.\n",
      "The bird's name is Tom.\n"
     ]
    }
   ],
   "source": [
    "#Keyword Arguments(free you from having to worry about correctly ordering your arguments in the function call)\n",
    "describe_pet(animal_name='tom',animal_type='bird')"
   ]
  },
  {
   "cell_type": "code",
   "execution_count": 36,
   "metadata": {},
   "outputs": [
    {
     "name": "stdout",
     "output_type": "stream",
     "text": [
      "\n",
      "There is a dog.\n",
      "The dog's name is Yanan.\n"
     ]
    }
   ],
   "source": [
    "#Default Values\n",
    "def describe_pet(animal_name,animal_type='dog'):#c参数顺序被改变，未设置默认值参数放在第一位\n",
    "    print(\"\\nThere is a \"+animal_type+\".\")\n",
    "    print(\"The \"+animal_type+\"'s name is \"+animal_name.title()+\".\")\n",
    "describe_pet(animal_name='yanan')\n",
    "#When you use default values, any parameter with a default value needs to be listed after all the parameters \n",
    "#that don’t have default values. This allows Python to con- tinue interpreting positional arguments correctly."
   ]
  },
  {
   "cell_type": "code",
   "execution_count": 39,
   "metadata": {},
   "outputs": [
    {
     "name": "stdout",
     "output_type": "stream",
     "text": [
      "\n",
      "There is a dog.\n",
      "The dog's name is Yanan.\n"
     ]
    }
   ],
   "source": [
    "#简单调用方法\n",
    "describe_pet('yanan')#argument 与第一个参数匹配"
   ]
  },
  {
   "cell_type": "code",
   "execution_count": null,
   "metadata": {},
   "outputs": [],
   "source": []
  }
 ],
 "metadata": {
  "kernelspec": {
   "display_name": "Python 3",
   "language": "python",
   "name": "python3"
  },
  "language_info": {
   "codemirror_mode": {
    "name": "ipython",
    "version": 3
   },
   "file_extension": ".py",
   "mimetype": "text/x-python",
   "name": "python",
   "nbconvert_exporter": "python",
   "pygments_lexer": "ipython3",
   "version": "3.6.4"
  }
 },
 "nbformat": 4,
 "nbformat_minor": 2
}
