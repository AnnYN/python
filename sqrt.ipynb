{
 "cells": [
  {
   "cell_type": "code",
   "execution_count": 41,
   "metadata": {},
   "outputs": [
    {
     "data": {
      "text/plain": [
       "2.1875"
      ]
     },
     "execution_count": 41,
     "metadata": {},
     "output_type": "execute_result"
    }
   ],
   "source": [
    "def abs(x):\n",
    "    if x>=0:\n",
    "        return x\n",
    "    elif x<0:\n",
    "        return -x\n",
    "abs(-9)\n",
    "def sqrt(x,low,high,epsion):\n",
    "    mid=(low+high)/2\n",
    "    if abs(mid*mid-x)<=epsion:\n",
    "        return mid\n",
    "    elif mid*mid-x>epsion:\n",
    "        high=mid\n",
    "        return sqrt(x,low,high,epsion)\n",
    "    else:\n",
    "        low=mid\n",
    "        return sqrt(x,low,high,epsion)\n",
    "sqrt(5,0,5,0.5)"
   ]
  },
  {
   "cell_type": "code",
   "execution_count": null,
   "metadata": {},
   "outputs": [],
   "source": []
  },
  {
   "cell_type": "code",
   "execution_count": null,
   "metadata": {},
   "outputs": [],
   "source": []
  }
 ],
 "metadata": {
  "kernelspec": {
   "display_name": "Python 3",
   "language": "python",
   "name": "python3"
  },
  "language_info": {
   "codemirror_mode": {
    "name": "ipython",
    "version": 3
   },
   "file_extension": ".py",
   "mimetype": "text/x-python",
   "name": "python",
   "nbconvert_exporter": "python",
   "pygments_lexer": "ipython3",
   "version": "3.6.4"
  }
 },
 "nbformat": 4,
 "nbformat_minor": 2
}
