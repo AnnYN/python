{
 "cells": [
  {
   "cell_type": "code",
   "execution_count": 36,
   "metadata": {},
   "outputs": [
    {
     "name": "stdout",
     "output_type": "stream",
     "text": [
      "3/5\n",
      "3 / 5\n"
     ]
    }
   ],
   "source": [
    "class Fraction:\n",
    "    def __init__(self,top,bottom):\n",
    "        self.num=top\n",
    "        self.den=bottom\n",
    "    def show(self):\n",
    "        print(self.num,\"/\",self.den)\n",
    "myf=Fraction(3,5)\n",
    "myf.show()"
   ]
  },
  {
   "cell_type": "code",
   "execution_count": 38,
   "metadata": {},
   "outputs": [
    {
     "name": "stdout",
     "output_type": "stream",
     "text": [
      "3/5\n"
     ]
    },
    {
     "data": {
      "text/plain": [
       "'3/5'"
      ]
     },
     "execution_count": 38,
     "metadata": {},
     "output_type": "execute_result"
    }
   ],
   "source": [
    "def __str__(self):\n",
    "    return str(self.num)+\"/\"+str(self.den)\n",
    "myf=Fraction(3,5)\n",
    "print(myf)\n",
    "myf.__str__()\n",
    "str(myf)\n"
   ]
  },
  {
   "cell_type": "code",
   "execution_count": 61,
   "metadata": {},
   "outputs": [
    {
     "name": "stdout",
     "output_type": "stream",
     "text": [
      "8/12\n"
     ]
    }
   ],
   "source": [
    "#加法\n",
    "def __add__(self,otherfraction):\n",
    "    newnum=self.num*otherfraction.den+self.den*otherfraction.num\n",
    "    newden=self.den*otherfraction.den\n",
    "    return Fraction(newnum,newden)\n",
    "f1=Fraction(1,2)\n",
    "f2=Fraction(1,6)\n",
    "f3=__add__(f1,f2)#为什么使用f3=f1+f2会报错\n",
    "print(f3)"
   ]
  },
  {
   "cell_type": "code",
   "execution_count": 74,
   "metadata": {},
   "outputs": [
    {
     "name": "stdout",
     "output_type": "stream",
     "text": [
      "2\n"
     ]
    }
   ],
   "source": [
    "#The Greatest Common Divisor Function (gcd_cl)\n",
    "def gcd(m,n):\n",
    "    while m%n!=0:\n",
    "        oldm=m\n",
    "        oldn=n\n",
    "        m=oldn\n",
    "        n=oldm%oldn\n",
    "    return n\n",
    "print(gcd(10,24))"
   ]
  },
  {
   "cell_type": "code",
   "execution_count": 75,
   "metadata": {},
   "outputs": [
    {
     "name": "stdout",
     "output_type": "stream",
     "text": [
      "5/12\n"
     ]
    }
   ],
   "source": [
    "# 改进的分数加法\n",
    "def __add__(self,otherfraction):\n",
    "    newnum=self.num*otherfraction.den+self.den*otherfraction.num\n",
    "    newden=self.den*otherfraction.den\n",
    "    common=gcd(newnum,newden)\n",
    "    return Fraction(newnum//common,newden//common)\n",
    "f1=Fraction(1,4)\n",
    "f2=Fraction(1,6)\n",
    "f3=__add__(f1,f2)\n",
    "print(f3)"
   ]
  },
  {
   "cell_type": "code",
   "execution_count": 77,
   "metadata": {},
   "outputs": [
    {
     "ename": "NameError",
     "evalue": "name 'x__add__y' is not defined",
     "output_type": "error",
     "traceback": [
      "\u001b[0;31m---------------------------------------\u001b[0m",
      "\u001b[0;31mNameError\u001b[0mTraceback (most recent call last)",
      "\u001b[0;32m<ipython-input-77-05115437fbfe>\u001b[0m in \u001b[0;36m<module>\u001b[0;34m()\u001b[0m\n\u001b[1;32m      6\u001b[0m \u001b[0mx\u001b[0m \u001b[0;34m=\u001b[0m \u001b[0mFraction\u001b[0m\u001b[0;34m(\u001b[0m\u001b[0;36m1\u001b[0m\u001b[0;34m,\u001b[0m\u001b[0;36m2\u001b[0m\u001b[0;34m)\u001b[0m\u001b[0;34m\u001b[0m\u001b[0m\n\u001b[1;32m      7\u001b[0m \u001b[0my\u001b[0m \u001b[0;34m=\u001b[0m \u001b[0mFraction\u001b[0m\u001b[0;34m(\u001b[0m\u001b[0;36m2\u001b[0m\u001b[0;34m,\u001b[0m\u001b[0;36m3\u001b[0m\u001b[0;34m)\u001b[0m\u001b[0;34m\u001b[0m\u001b[0m\n\u001b[0;32m----> 8\u001b[0;31m \u001b[0mprint\u001b[0m\u001b[0;34m(\u001b[0m\u001b[0mx__add__y\u001b[0m\u001b[0;34m)\u001b[0m\u001b[0;34m\u001b[0m\u001b[0m\n\u001b[0m\u001b[1;32m      9\u001b[0m \u001b[0mprint\u001b[0m\u001b[0;34m(\u001b[0m\u001b[0mx\u001b[0m \u001b[0;34m==\u001b[0m \u001b[0my\u001b[0m\u001b[0;34m)\u001b[0m\u001b[0;34m\u001b[0m\u001b[0m\n\u001b[1;32m     10\u001b[0m \u001b[0;34m\u001b[0m\u001b[0m\n",
      "\u001b[0;31mNameError\u001b[0m: name 'x__add__y' is not defined"
     ]
    }
   ],
   "source": [
    "#shallow project\n",
    "def __eq__(self,other):\n",
    "    firstnum=self.num*other.den\n",
    "    secondnum=self.den*other.num\n",
    "    return firstnum==secondnum\n",
    "x = Fraction(1,2)\n",
    "y = Fraction(2,3)\n",
    "print(x>__add__y)\n",
    "print(x == y)\n",
    "    "
   ]
  },
  {
   "cell_type": "code",
   "execution_count": null,
   "metadata": {},
   "outputs": [],
   "source": []
  }
 ],
 "metadata": {
  "kernelspec": {
   "display_name": "Python 3",
   "language": "python",
   "name": "python3"
  },
  "language_info": {
   "codemirror_mode": {
    "name": "ipython",
    "version": 3
   },
   "file_extension": ".py",
   "mimetype": "text/x-python",
   "name": "python",
   "nbconvert_exporter": "python",
   "pygments_lexer": "ipython3",
   "version": "3.6.4"
  }
 },
 "nbformat": 4,
 "nbformat_minor": 2
}
