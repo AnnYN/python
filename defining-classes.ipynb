{
 "cells": [
  {
   "cell_type": "code",
   "execution_count": 22,
   "metadata": {},
   "outputs": [
    {
     "name": "stdout",
     "output_type": "stream",
     "text": [
      "3 / 5\n"
     ]
    }
   ],
   "source": [
    "class Fraction:\n",
    "    def __init__(self,top,bottom):\n",
    "        self.num=top\n",
    "        self.den=bottom\n",
    "    def show(self):\n",
    "        print(self.num,\"/\",self.den)\n",
    "myf=Fraction(3,5)\n",
    "myf.show()"
   ]
  },
  {
   "cell_type": "code",
   "execution_count": 26,
   "metadata": {},
   "outputs": [
    {
     "data": {
      "text/plain": [
       "'<__main__.Fraction object at 0x1063a30f0>'"
      ]
     },
     "execution_count": 26,
     "metadata": {},
     "output_type": "execute_result"
    }
   ],
   "source": [
    "def __str__(self):\n",
    "    return str(self.num)+\"/\"+str(self.den)\n",
    "myf=Fraction(3,5)\n",
    "myf.__str__()"
   ]
  },
  {
   "cell_type": "code",
   "execution_count": 27,
   "metadata": {},
   "outputs": [
    {
     "name": "stdout",
     "output_type": "stream",
     "text": [
      "<__main__.Fraction object at 0x1063a35c0>\n"
     ]
    }
   ],
   "source": [
    "#加法\n",
    "def __add__(self,otherfraction):\n",
    "    newnum=self.num*otherfraction.den+self.den*otherfraction.num\n",
    "    newden=self.den*otherfraction.den\n",
    "    return Fraction(newnum,newden)\n",
    "f1=Fraction(1,2)\n",
    "f2=Fraction(1,6)\n",
    "f3=__add__(f1,f2)#为什么使用f3=f1+f2会报错\n",
    "print(f3)"
   ]
  },
  {
   "cell_type": "code",
   "execution_count": 5,
   "metadata": {},
   "outputs": [
    {
     "name": "stdout",
     "output_type": "stream",
     "text": [
      "2\n"
     ]
    }
   ],
   "source": [
    "#The Greatest Common Divisor Function (gcd_cl)\n",
    "def gcd(m,n):\n",
    "    while m%n!=0:\n",
    "        oldm=m\n",
    "        oldn=n\n",
    "        m=oldn\n",
    "        n=oldm%oldn\n",
    "    return n\n",
    "print(gcd(10,24))"
   ]
  },
  {
   "cell_type": "code",
   "execution_count": 13,
   "metadata": {},
   "outputs": [
    {
     "name": "stdout",
     "output_type": "stream",
     "text": [
      "<__main__.Fraction object at 0x1063a31d0>\n"
     ]
    }
   ],
   "source": [
    "# 改进的分数加法\n",
    "def __add__(self,otherfraction):\n",
    "    newnum=self.num*otherfraction.den+self.den*otherfraction.num\n",
    "    newden=self.den*otherfraction.den\n",
    "    common=gcd(newnum,newden)\n",
    "    return Fraction(newnum//common,newden//common)\n",
    "f1=Fraction(1,4)\n",
    "f2=Fraction(1,6)\n",
    "f3=__add__(f1,f2)\n",
    "print(f3)"
   ]
  },
  {
   "cell_type": "code",
   "execution_count": 28,
   "metadata": {},
   "outputs": [
    {
     "name": "stdout",
     "output_type": "stream",
     "text": [
      "<__main__.Fraction object at 0x1063bacf8>\n",
      "False\n"
     ]
    }
   ],
   "source": [
    "#shallow project\n",
    "def __eq__(self,other):\n",
    "    firstnum=self.num*other.den\n",
    "    secondnum=self.den*other.num\n",
    "    return firstnum==secondnum\n",
    "x = Fraction(1,2)\n",
    "y = Fraction(2,3)\n",
    "print(__add__(x,y))\n",
    "print(x == y)\n",
    "    "
   ]
  },
  {
   "cell_type": "code",
   "execution_count": null,
   "metadata": {},
   "outputs": [],
   "source": []
  }
 ],
 "metadata": {
  "kernelspec": {
   "display_name": "Python 3",
   "language": "python",
   "name": "python3"
  },
  "language_info": {
   "codemirror_mode": {
    "name": "ipython",
    "version": 3
   },
   "file_extension": ".py",
   "mimetype": "text/x-python",
   "name": "python",
   "nbconvert_exporter": "python",
   "pygments_lexer": "ipython3",
   "version": "3.6.4"
  }
 },
 "nbformat": 4,
 "nbformat_minor": 2
}
