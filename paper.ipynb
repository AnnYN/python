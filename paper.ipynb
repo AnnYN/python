{
 "cells": [
  {
   "cell_type": "code",
   "execution_count": 1,
   "metadata": {},
   "outputs": [],
   "source": [
    "import pandas as pd\n",
    "import matplotlib.pyplot as plt\n",
    "import seaborn as sns\n",
    "import re\n",
    "import numpy as np\n",
    "from sklearn import tree\n",
    "from sklearn.model_selection import GridSearchCV"
   ]
  },
  {
   "cell_type": "code",
   "execution_count": 2,
   "metadata": {},
   "outputs": [],
   "source": [
    "# Figures inline and set visualization style\n",
    "%matplotlib inline\n",
    "sns.set()"
   ]
  },
  {
   "cell_type": "code",
   "execution_count": 12,
   "metadata": {},
   "outputs": [
    {
     "name": "stderr",
     "output_type": "stream",
     "text": [
      "/anaconda3/lib/python3.6/site-packages/IPython/core/interactiveshell.py:2728: DtypeWarning: Columns (135,204,274,417) have mixed types. Specify dtype option on import or set low_memory=False.\n",
      "  interactivity=interactivity, compiler=compiler, result=result)\n",
      "/anaconda3/lib/python3.6/site-packages/IPython/core/interactiveshell.py:2728: DtypeWarning: Columns (417) have mixed types. Specify dtype option on import or set low_memory=False.\n",
      "  interactivity=interactivity, compiler=compiler, result=result)\n"
     ]
    }
   ],
   "source": [
    "# Import data\n",
    "df_train = pd.read_csv('Documents/data/train_v2.csv')\n",
    "df_test = pd.read_csv('Documents/data/test_v2.csv')"
   ]
  },
  {
   "cell_type": "code",
   "execution_count": 13,
   "metadata": {},
   "outputs": [],
   "source": [
    "# Store target variable of training data in a safe place\n",
    "loss_train_ = df_train.loss\n",
    "loss_test_ = pd.read_csv('Documents/data/sampleSubmission.csv')"
   ]
  },
  {
   "cell_type": "code",
   "execution_count": 27,
   "metadata": {},
   "outputs": [
    {
     "name": "stdout",
     "output_type": "stream",
     "text": [
      "(316415, 1)\n"
     ]
    },
    {
     "data": {
      "text/plain": [
       "pandas.core.frame.DataFrame"
      ]
     },
     "execution_count": 27,
     "metadata": {},
     "output_type": "execute_result"
    }
   ],
   "source": [
    "# 合并target\n",
    "\n",
    "loss_test=loss_test_.drop(columns=['id'])\n",
    "target = pd.concat([loss_train,loss_test])\n",
    "print(target.shape)\n",
    "type(target)"
   ]
  },
  {
   "cell_type": "code",
   "execution_count": 18,
   "metadata": {},
   "outputs": [
    {
     "name": "stdout",
     "output_type": "stream",
     "text": [
      "<class 'pandas.core.frame.DataFrame'>\n",
      "Int64Index: 316415 entries, 0 to 210943\n",
      "Columns: 769 entries, f1 to f778\n",
      "dtypes: float64(655), int64(95), object(19)\n",
      "memory usage: 1.8+ GB\n"
     ]
    }
   ],
   "source": [
    "#合并train and test\n",
    "\n",
    "data = pd.concat([df_train.drop(['loss'], axis=1), df_test])\n",
    "#删掉 'id'列\n",
    "df_data = data.drop(columns=['id'])\n",
    "#查看\n",
    "df_data.info()"
   ]
  },
  {
   "cell_type": "code",
   "execution_count": 19,
   "metadata": {},
   "outputs": [
    {
     "data": {
      "text/html": [
       "<div>\n",
       "<style scoped>\n",
       "    .dataframe tbody tr th:only-of-type {\n",
       "        vertical-align: middle;\n",
       "    }\n",
       "\n",
       "    .dataframe tbody tr th {\n",
       "        vertical-align: top;\n",
       "    }\n",
       "\n",
       "    .dataframe thead th {\n",
       "        text-align: right;\n",
       "    }\n",
       "</style>\n",
       "<table border=\"1\" class=\"dataframe\">\n",
       "  <thead>\n",
       "    <tr style=\"text-align: right;\">\n",
       "      <th></th>\n",
       "      <th>f1</th>\n",
       "      <th>f2</th>\n",
       "      <th>f3</th>\n",
       "      <th>f4</th>\n",
       "      <th>f5</th>\n",
       "      <th>f6</th>\n",
       "      <th>f7</th>\n",
       "      <th>f8</th>\n",
       "      <th>f9</th>\n",
       "      <th>f10</th>\n",
       "      <th>...</th>\n",
       "      <th>f769</th>\n",
       "      <th>f770</th>\n",
       "      <th>f771</th>\n",
       "      <th>f772</th>\n",
       "      <th>f773</th>\n",
       "      <th>f774</th>\n",
       "      <th>f775</th>\n",
       "      <th>f776</th>\n",
       "      <th>f777</th>\n",
       "      <th>f778</th>\n",
       "    </tr>\n",
       "  </thead>\n",
       "  <tbody>\n",
       "    <tr>\n",
       "      <th>210939</th>\n",
       "      <td>140</td>\n",
       "      <td>9</td>\n",
       "      <td>0.802220</td>\n",
       "      <td>3600</td>\n",
       "      <td>10.0</td>\n",
       "      <td>9836</td>\n",
       "      <td>831.0</td>\n",
       "      <td>491.0</td>\n",
       "      <td>128.28</td>\n",
       "      <td>138.80</td>\n",
       "      <td>...</td>\n",
       "      <td>-12.54</td>\n",
       "      <td>3</td>\n",
       "      <td>6.22</td>\n",
       "      <td>-4.55</td>\n",
       "      <td>7.01</td>\n",
       "      <td>0.2130</td>\n",
       "      <td>-0.7890</td>\n",
       "      <td>0</td>\n",
       "      <td>1</td>\n",
       "      <td>13</td>\n",
       "    </tr>\n",
       "    <tr>\n",
       "      <th>210940</th>\n",
       "      <td>154</td>\n",
       "      <td>9</td>\n",
       "      <td>0.477440</td>\n",
       "      <td>3600</td>\n",
       "      <td>3.0</td>\n",
       "      <td>80502</td>\n",
       "      <td>4283.0</td>\n",
       "      <td>280.0</td>\n",
       "      <td>154.13</td>\n",
       "      <td>153.84</td>\n",
       "      <td>...</td>\n",
       "      <td>-9.64</td>\n",
       "      <td>20</td>\n",
       "      <td>5.98</td>\n",
       "      <td>-4.13</td>\n",
       "      <td>3.02</td>\n",
       "      <td>0.2582</td>\n",
       "      <td>0.4792</td>\n",
       "      <td>1</td>\n",
       "      <td>1</td>\n",
       "      <td>41</td>\n",
       "    </tr>\n",
       "    <tr>\n",
       "      <th>210941</th>\n",
       "      <td>150</td>\n",
       "      <td>8</td>\n",
       "      <td>0.480407</td>\n",
       "      <td>4400</td>\n",
       "      <td>7.0</td>\n",
       "      <td>14507</td>\n",
       "      <td>78.0</td>\n",
       "      <td>1502.0</td>\n",
       "      <td>150.75</td>\n",
       "      <td>150.20</td>\n",
       "      <td>...</td>\n",
       "      <td>-1.12</td>\n",
       "      <td>4</td>\n",
       "      <td>0.41</td>\n",
       "      <td>-0.16</td>\n",
       "      <td>0.08</td>\n",
       "      <td>0.1552</td>\n",
       "      <td>0.8375</td>\n",
       "      <td>1</td>\n",
       "      <td>1</td>\n",
       "      <td>20</td>\n",
       "    </tr>\n",
       "    <tr>\n",
       "      <th>210942</th>\n",
       "      <td>135</td>\n",
       "      <td>8</td>\n",
       "      <td>0.223248</td>\n",
       "      <td>2700</td>\n",
       "      <td>16.0</td>\n",
       "      <td>13700</td>\n",
       "      <td>9572.0</td>\n",
       "      <td>5151.0</td>\n",
       "      <td>131.42</td>\n",
       "      <td>134.49</td>\n",
       "      <td>...</td>\n",
       "      <td>-29.81</td>\n",
       "      <td>51</td>\n",
       "      <td>20.39</td>\n",
       "      <td>-15.14</td>\n",
       "      <td>11.75</td>\n",
       "      <td>0.2411</td>\n",
       "      <td>0.7004</td>\n",
       "      <td>0</td>\n",
       "      <td>0</td>\n",
       "      <td>513</td>\n",
       "    </tr>\n",
       "    <tr>\n",
       "      <th>210943</th>\n",
       "      <td>166</td>\n",
       "      <td>7</td>\n",
       "      <td>0.870420</td>\n",
       "      <td>5300</td>\n",
       "      <td>4.0</td>\n",
       "      <td>81409</td>\n",
       "      <td>1584.0</td>\n",
       "      <td>2823.0</td>\n",
       "      <td>161.68</td>\n",
       "      <td>164.88</td>\n",
       "      <td>...</td>\n",
       "      <td>-7.02</td>\n",
       "      <td>10</td>\n",
       "      <td>5.83</td>\n",
       "      <td>-4.96</td>\n",
       "      <td>4.30</td>\n",
       "      <td>0.3003</td>\n",
       "      <td>1.1379</td>\n",
       "      <td>0</td>\n",
       "      <td>1</td>\n",
       "      <td>1212</td>\n",
       "    </tr>\n",
       "  </tbody>\n",
       "</table>\n",
       "<p>5 rows × 769 columns</p>\n",
       "</div>"
      ],
      "text/plain": [
       "         f1  f2        f3    f4    f5     f6      f7      f8      f9     f10  \\\n",
       "210939  140   9  0.802220  3600  10.0   9836   831.0   491.0  128.28  138.80   \n",
       "210940  154   9  0.477440  3600   3.0  80502  4283.0   280.0  154.13  153.84   \n",
       "210941  150   8  0.480407  4400   7.0  14507    78.0  1502.0  150.75  150.20   \n",
       "210942  135   8  0.223248  2700  16.0  13700  9572.0  5151.0  131.42  134.49   \n",
       "210943  166   7  0.870420  5300   4.0  81409  1584.0  2823.0  161.68  164.88   \n",
       "\n",
       "        ...    f769  f770   f771   f772   f773    f774    f775  f776  f777  \\\n",
       "210939  ...  -12.54     3   6.22  -4.55   7.01  0.2130 -0.7890     0     1   \n",
       "210940  ...   -9.64    20   5.98  -4.13   3.02  0.2582  0.4792     1     1   \n",
       "210941  ...   -1.12     4   0.41  -0.16   0.08  0.1552  0.8375     1     1   \n",
       "210942  ...  -29.81    51  20.39 -15.14  11.75  0.2411  0.7004     0     0   \n",
       "210943  ...   -7.02    10   5.83  -4.96   4.30  0.3003  1.1379     0     1   \n",
       "\n",
       "        f778  \n",
       "210939    13  \n",
       "210940    41  \n",
       "210941    20  \n",
       "210942   513  \n",
       "210943  1212  \n",
       "\n",
       "[5 rows x 769 columns]"
      ]
     },
     "execution_count": 19,
     "metadata": {},
     "output_type": "execute_result"
    }
   ],
   "source": [
    "# View head of 'Name' column\n",
    "df_data.tail()"
   ]
  },
  {
   "cell_type": "code",
   "execution_count": 44,
   "metadata": {},
   "outputs": [],
   "source": [
    "target['loss'] = target['loss'].astype(str)\n"
   ]
  },
  {
   "cell_type": "code",
   "execution_count": null,
   "metadata": {},
   "outputs": [],
   "source": [
    "#定义函数将loss转变成二分类变量,loss>0为违约用户，值为1\n",
    "# transform the loss to the binary form\n",
    "def toLabels(y):\n",
    "    labels = np.zeros(len(y))\n",
    "    labels[y>0] = 1\n",
    "    return labels"
   ]
  },
  {
   "cell_type": "code",
   "execution_count": null,
   "metadata": {},
   "outputs": [],
   "source": []
  },
  {
   "cell_type": "code",
   "execution_count": 9,
   "metadata": {},
   "outputs": [],
   "source": []
  },
  {
   "cell_type": "code",
   "execution_count": null,
   "metadata": {},
   "outputs": [],
   "source": [
    "\n"
   ]
  },
  {
   "cell_type": "code",
   "execution_count": null,
   "metadata": {},
   "outputs": [],
   "source": []
  },
  {
   "cell_type": "code",
   "execution_count": null,
   "metadata": {},
   "outputs": [],
   "source": []
  },
  {
   "cell_type": "code",
   "execution_count": null,
   "metadata": {},
   "outputs": [],
   "source": []
  },
  {
   "cell_type": "code",
   "execution_count": null,
   "metadata": {},
   "outputs": [],
   "source": [
    "#将loss转变成二分类变量,loss>0为违约用户，值为1\n",
    "# transform the loss to the binary form\n",
    "def toLabels(y):\n",
    "    labels = np.zeros(len(y))\n",
    "    labels[target>0] = 1\n",
    "    return labels"
   ]
  },
  {
   "cell_type": "code",
   "execution_count": null,
   "metadata": {},
   "outputs": [],
   "source": []
  },
  {
   "cell_type": "code",
   "execution_count": 25,
   "metadata": {},
   "outputs": [
    {
     "data": {
      "text/plain": [
       "[<matplotlib.lines.Line2D at 0x1a331b7c88>]"
      ]
     },
     "execution_count": 25,
     "metadata": {},
     "output_type": "execute_result"
    },
    {
     "data": {
      "image/png": "[encoded data removed]",
      "text/plain": [
       "<matplotlib.figure.Figure at 0x1a33417550>"
      ]
     },
     "metadata": {},
     "output_type": "display_data"
    }
   ],
   "source": [
    "#处理缺失值,把NA默认为缺失值\n",
    "#df_data.replace(to_replace=None, value=None, inplace=False, limit=None, regex=False, method='pad', axis=None)"
   ]
  },
  {
   "cell_type": "markdown",
   "metadata": {},
   "source": [
    "from sklearn.model_selection import train_test_split\n",
    "X_train, X_test, y_train, y_test = train_test_split(df_data, target, random_state=0)"
   ]
  },
  {
   "cell_type": "markdown",
   "metadata": {},
   "source": [
    "#特征选择\n",
    "from sklearn.feature_selection import SelectFromModel\n",
    "from sklearn.ensemble import RandomForestClassifier\n",
    "select = SelectFromModel(\n",
    "    RandomForestClassifier(n_estimators=100, random_state=42),\n",
    "    threshold=\"median\")"
   ]
  },
  {
   "cell_type": "markdown",
   "metadata": {},
   "source": [
    "select.fit(X_train, y_train)\n",
    "X_train_l1 = select.transform(X_train)\n",
    "print(\"X_train.shape: {}\".format(X_train.shape))\n",
    "print(\"X_train_l1.shape: {}\".format(X_train_l1.shape))"
   ]
  },
  {
   "cell_type": "markdown",
   "metadata": {},
   "source": [
    "mask = select.get_support()\n",
    "# visualize the mask. black is True, white is False\n",
    "plt.matshow(mask.reshape(1, -1), cmap='gray_r')\n",
    "plt.xlabel(\"Sample index\")\n",
    "plt.yticks(())"
   ]
  },
  {
   "cell_type": "code",
   "execution_count": null,
   "metadata": {},
   "outputs": [],
   "source": []
  },
  {
   "cell_type": "code",
   "execution_count": null,
   "metadata": {},
   "outputs": [],
   "source": []
  },
  {
   "cell_type": "code",
   "execution_count": null,
   "metadata": {},
   "outputs": [],
   "source": []
  },
  {
   "cell_type": "code",
   "execution_count": null,
   "metadata": {},
   "outputs": [],
   "source": []
  }
 ],
 "metadata": {
  "kernelspec": {
   "display_name": "Python 3",
   "language": "python",
   "name": "python3"
  },
  "language_info": {
   "codemirror_mode": {
    "name": "ipython",
    "version": 3
   },
   "file_extension": ".py",
   "mimetype": "text/x-python",
   "name": "python",
   "nbconvert_exporter": "python",
   "pygments_lexer": "ipython3",
   "version": "3.6.4"
  }
 },
 "nbformat": 4,
 "nbformat_minor": 2
}
