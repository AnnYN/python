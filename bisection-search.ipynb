{
 "cells": [
  {
   "cell_type": "code",
   "execution_count": 42,
   "metadata": {},
   "outputs": [
    {
     "data": {
      "text/plain": [
       "True"
      ]
     },
     "execution_count": 42,
     "metadata": {},
     "output_type": "execute_result"
    }
   ],
   "source": [
    "#使用二分法查找字母是否在字符串中（字符串以字母顺序存储）\n",
    "def isIn(char,aStr):\n",
    "    if aStr==' ' :\n",
    "        return False\n",
    "    if len(aStr)==1:\n",
    "        return char==aStr\n",
    "    midIndex=len(aStr)//2\n",
    "    midChar=aStr[midIndex]\n",
    "    if char==midChar:\n",
    "        return True\n",
    "    elif char < midChar:\n",
    "        return isIn(char,aStr[:midIndex])\n",
    "    else:\n",
    "        return isIn(char,aStr[midIndex+1:])\n",
    "isIn(\"e\",\"abcde\")"
   ]
  },
  {
   "cell_type": "code",
   "execution_count": null,
   "metadata": {},
   "outputs": [],
   "source": []
  },
  {
   "cell_type": "code",
   "execution_count": null,
   "metadata": {},
   "outputs": [],
   "source": []
  }
 ],
 "metadata": {
  "kernelspec": {
   "display_name": "Python 3",
   "language": "python",
   "name": "python3"
  },
  "language_info": {
   "codemirror_mode": {
    "name": "ipython",
    "version": 3
   },
   "file_extension": ".py",
   "mimetype": "text/x-python",
   "name": "python",
   "nbconvert_exporter": "python",
   "pygments_lexer": "ipython3",
   "version": "3.6.4"
  }
 },
 "nbformat": 4,
 "nbformat_minor": 2
}
