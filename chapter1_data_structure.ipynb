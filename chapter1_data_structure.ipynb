{
 "cells": [
  {
   "cell_type": "code",
   "execution_count": 40,
   "metadata": {},
   "outputs": [
    {
     "data": {
      "text/plain": [
       "True"
      ]
     },
     "execution_count": 40,
     "metadata": {},
     "output_type": "execute_result"
    }
   ],
   "source": [
    "# 使用list实现bag\n",
    "class Bag:\n",
    "    # Constructs an empty bag.\n",
    "    def __init__(self):\n",
    "        self._theItems=list()\n",
    "        self.current=0\n",
    "    def __len__(self):\n",
    "        return len(self._theItems)\n",
    "    def __add__(self, item):\n",
    "        return  self._theItems.append(item)\n",
    "    def __contains__(self, item):\n",
    "        return item in self._theItems\n",
    "    def __remove__(self,item):\n",
    "        assert  item in self._theItems\n",
    "        ndx =self._theItems.index(item)\n",
    "        return self._theItems.pop(ndx)\n",
    "    def __iter__(self):\n",
    "        return self\n",
    "    def __next__(self):\n",
    "        if self.current<len(self._theItems):\n",
    "            self.current+=1\n",
    "            return self._theItems[self.current-1]\n",
    "        else:\n",
    "            self.current=0\n",
    "            raise StopIteration\n",
    "bag=Bag()\n",
    "bag.__add__(1)\n",
    "bag.__add__(2)\n",
    "bag.__add__('x')\n",
    "bag.__len__()\n",
    "bag.__contains__(2)"
   ]
  },
  {
   "cell_type": "code",
   "execution_count": 41,
   "metadata": {},
   "outputs": [
    {
     "data": {
      "text/plain": [
       "3"
      ]
     },
     "execution_count": 41,
     "metadata": {},
     "output_type": "execute_result"
    }
   ],
   "source": [
    "bag.__len__()"
   ]
  },
  {
   "cell_type": "code",
   "execution_count": 42,
   "metadata": {},
   "outputs": [
    {
     "data": {
      "text/plain": [
       "False"
      ]
     },
     "execution_count": 42,
     "metadata": {},
     "output_type": "execute_result"
    }
   ],
   "source": [
    "bag.__contains__(0)"
   ]
  },
  {
   "cell_type": "code",
   "execution_count": 43,
   "metadata": {},
   "outputs": [
    {
     "data": {
      "text/plain": [
       "2"
      ]
     },
     "execution_count": 43,
     "metadata": {},
     "output_type": "execute_result"
    }
   ],
   "source": [
    "bag.__remove__(2)"
   ]
  },
  {
   "cell_type": "code",
   "execution_count": 44,
   "metadata": {},
   "outputs": [
    {
     "data": {
      "text/plain": [
       "False"
      ]
     },
     "execution_count": 44,
     "metadata": {},
     "output_type": "execute_result"
    }
   ],
   "source": [
    "bag.__contains__(2)"
   ]
  },
  {
   "cell_type": "code",
   "execution_count": 45,
   "metadata": {},
   "outputs": [
    {
     "data": {
      "text/plain": [
       "2"
      ]
     },
     "execution_count": 45,
     "metadata": {},
     "output_type": "execute_result"
    }
   ],
   "source": [
    "bag.__len__()"
   ]
  },
  {
   "cell_type": "code",
   "execution_count": 46,
   "metadata": {},
   "outputs": [
    {
     "name": "stdout",
     "output_type": "stream",
     "text": [
      "1\n",
      "x\n"
     ]
    }
   ],
   "source": [
    "for item in bag:\n",
    "    print(item)"
   ]
  },
  {
   "cell_type": "code",
   "execution_count": 47,
   "metadata": {},
   "outputs": [],
   "source": [
    "bag.__add__(3)"
   ]
  },
  {
   "cell_type": "code",
   "execution_count": 48,
   "metadata": {},
   "outputs": [
    {
     "data": {
      "text/plain": [
       "3"
      ]
     },
     "execution_count": 48,
     "metadata": {},
     "output_type": "execute_result"
    }
   ],
   "source": [
    "bag.__len__()"
   ]
  },
  {
   "cell_type": "code",
   "execution_count": 49,
   "metadata": {},
   "outputs": [
    {
     "name": "stdout",
     "output_type": "stream",
     "text": [
      "1\n",
      "x\n",
      "3\n"
     ]
    }
   ],
   "source": [
    "for item in bag:\n",
    "    print(item)"
   ]
  },
  {
   "cell_type": "code",
   "execution_count": 1,
   "metadata": {},
   "outputs": [
    {
     "name": "stdout",
     "output_type": "stream",
     "text": [
      "enter your birth date:\n",
      "month(0 to quit): 9\n",
      "day: 17\n",
      "year: 1994\n",
      "Is at least 18 years old:  <class 'datetime.date'>\n",
      "enter your birth date:\n",
      "month(0 to quit): 9\n",
      "day: 17\n",
      "year: 2004\n",
      "enter your birth date:\n",
      "month(0 to quit): 0\n"
     ]
    }
   ],
   "source": [
    "from datetime import date\n",
    "def main():\n",
    "    bornBefore = date(2000,4,4)\n",
    "    mydate = promptAndExtractDate()\n",
    "    while mydate is not None:\n",
    "        if mydate <= bornBefore:\n",
    "            print(\"Is at least 18 years old: \",date)\n",
    "        mydate = promptAndExtractDate()\n",
    "def promptAndExtractDate():\n",
    "    print(\"enter your birth date:\")\n",
    "    month=int(input(\"month(0 to quit): \"))\n",
    "    if month==0:\n",
    "        return  None\n",
    "    else:\n",
    "        day=int(input(\"day: \"))\n",
    "        year=int(input(\"year: \"))\n",
    "        return date(year, month ,day)\n",
    "main()"
   ]
  },
  {
   "cell_type": "code",
   "execution_count": null,
   "metadata": {},
   "outputs": [],
   "source": []
  }
 ],
 "metadata": {
  "kernelspec": {
   "display_name": "Python 3",
   "language": "python",
   "name": "python3"
  },
  "language_info": {
   "codemirror_mode": {
    "name": "ipython",
    "version": 3
   },
   "file_extension": ".py",
   "mimetype": "text/x-python",
   "name": "python",
   "nbconvert_exporter": "python",
   "pygments_lexer": "ipython3",
   "version": "3.6.4"
  }
 },
 "nbformat": 4,
 "nbformat_minor": 2
}
