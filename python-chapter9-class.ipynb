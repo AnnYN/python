{
 "cells": [
  {
   "cell_type": "code",
   "execution_count": 20,
   "metadata": {},
   "outputs": [
    {
     "name": "stdout",
     "output_type": "stream",
     "text": [
      "Yanan is now sitting\n",
      "Yanan is now rolling  over\n"
     ]
    },
    {
     "data": {
      "text/plain": [
       "12"
      ]
     },
     "execution_count": 20,
     "metadata": {},
     "output_type": "execute_result"
    }
   ],
   "source": [
    "class Dog():#creating the dog class\n",
    "    def __init__(self,name,age):\n",
    "        self.name=name\n",
    "        self.age=age\n",
    "    def sit(self):\n",
    "        print(self.name.title()+\" is now sitting\")\n",
    "    def roll_over(self):\n",
    "        print(self.name.title()+\" is now rolling  over\")\n",
    "myDog=Dog('yanan',12)#making an instance from a class\n",
    "myDog.sit()#calling method\n",
    "myDog.roll_over()\n",
    "myDog.name#acessing attributes\n",
    "myDog.age"
   ]
  },
  {
   "cell_type": "code",
   "execution_count": null,
   "metadata": {},
   "outputs": [],
   "source": []
  },
  {
   "cell_type": "code",
   "execution_count": 25,
   "metadata": {},
   "outputs": [
    {
     "name": "stdout",
     "output_type": "stream",
     "text": [
      "-=CLASS VARIABLE=-\n",
      "Dog2.kind: canine\n",
      "-=INSTANCES=-\n",
      "dogX.name: Yanan\n",
      "dogY.name: Anan\n",
      "dogX.kind: canine\n",
      "dogY.kind: canine\n",
      "-=RESET CLASS VARIABLE=-\n",
      "dog2.kind(): hahaha\n",
      "dogX.kind(): hahaha\n",
      "dogY.kind(): hahaha\n"
     ]
    }
   ],
   "source": [
    "#class和instance的区别\n",
    "class Dog2:\n",
    "    kind = 'canine'  # class variable shared by all instances\n",
    "\n",
    "    def __init__(self, name):\n",
    "        self.name = name  # instance variable unique to each instance\n",
    "\n",
    "\n",
    "dogX = Dog2(\"Yanan\")\n",
    "dogY = Dog2(\"Anan\")\n",
    "\n",
    "print(\"-=CLASS VARIABLE=-\") # 这个kind是保存在class里的\n",
    "\n",
    "print(\"Dog2.kind: \" + Dog2.kind)\n",
    "\n",
    "print(\"-=INSTANCES=-\")\n",
    "\n",
    "print(\"dogX.name: \" + dogX.name) # name是每个instance都会各自保存的\n",
    "print(\"dogY.name: \" + dogY.name)\n",
    "print(\"dogX.kind: \" + dogX.kind) # 实际是class variable，所以从instance里面取出来也是class里面的\n",
    "print(\"dogY.kind: \" + dogY.kind)\n",
    "\n",
    "print(\"-=RESET CLASS VARIABLE=-\")\n",
    "Dog2.kind = \"hahaha\" # 因为是class variable，所以改动以后，各个instances查看的时候也就跟着变了，因为实际只有class里面保存一份\n",
    "\n",
    "print(\"dog2.kind(): \" + Dog2.kind)\n",
    "print(\"dogX.kind(): \" + dogX.kind)\n",
    "print(\"dogY.kind(): \" + dogY.kind)"
   ]
  },
  {
   "cell_type": "code",
   "execution_count": 36,
   "metadata": {
    "scrolled": true
   },
   "outputs": [
    {
     "name": "stdout",
     "output_type": "stream",
     "text": [
      "2019 Audi A4\n",
      "This car has 0 miles on it\n",
      "None\n"
     ]
    }
   ],
   "source": [
    "# setting a default value for an attribute\n",
    "class car():\n",
    "    def __init__(self,make,model,year):\n",
    "        self.make=make\n",
    "        self.model=model\n",
    "        self.year=year\n",
    "        self.odometer_reading=0\n",
    "    def get_des_name(self):\n",
    "        long_name=str(self.year)+' '+self.make+' '+self.model\n",
    "        return long_name.title()\n",
    "    def read_odometer(self):\n",
    "        print(\"This car has \"+str(self.odometer_reading)+\" miles on it\")\n",
    "my_car=car('audi','a4',2019)\n",
    "print(my_car.get_des_name())\n",
    "print(my_car.read_odometer())"
   ]
  },
  {
   "cell_type": "code",
   "execution_count": 33,
   "metadata": {},
   "outputs": [
    {
     "name": "stdout",
     "output_type": "stream",
     "text": [
      "2019 Audi A4\n"
     ]
    }
   ],
   "source": [
    "#the car class\n",
    "class car():\n",
    "    def __init__(self,make,model,year):\n",
    "        self.make=make\n",
    "        self.model=model\n",
    "        self.year=year\n",
    "    def get_des_name(self):\n",
    "        long_name=str(self.year)+' '+self.make+' '+self.model\n",
    "        return long_name.title()\n",
    "my_car=car('audi','a4',2019)\n",
    "print(my_car.get_des_name())"
   ]
  },
  {
   "cell_type": "code",
   "execution_count": 38,
   "metadata": {},
   "outputs": [
    {
     "name": "stdout",
     "output_type": "stream",
     "text": [
      "This car has 23 miles on it\n"
     ]
    }
   ],
   "source": [
    "#modifying an attribute directly\n",
    "my_car.odometer_reading=23\n",
    "my_car.read_odometer()"
   ]
  },
  {
   "cell_type": "code",
   "execution_count": 44,
   "metadata": {},
   "outputs": [
    {
     "name": "stdout",
     "output_type": "stream",
     "text": [
      "2016 Audi A4\n",
      "This car has 0 miles on it\n",
      "None\n",
      "This car has 25 miles on it\n"
     ]
    }
   ],
   "source": [
    "#modifying an attribut's value through a method\n",
    "# setting a default value for an attribute\n",
    "class car():\n",
    "    def __init__(self,make,model,year):\n",
    "        self.make=make\n",
    "        self.model=model\n",
    "        self.year=year\n",
    "        self.odometer_reading=0\n",
    "    def get_des_name(self):\n",
    "        long_name=str(self.year)+' '+self.make+' '+self.model\n",
    "        return long_name.title()\n",
    "    def update_odometer(self,mileage):\n",
    "        self.odometer_reading=mileage\n",
    "    def read_odometer(self):\n",
    "        print(\"This car has \"+str(self.odometer_reading)+\" miles on it\")\n",
    "my_car=car('audi','a4',2016)\n",
    "print(my_car.get_des_name())\n",
    "print(my_car.read_odometer())\n",
    "my_car.update_odometer(25)\n",
    "my_car.read_odometer()\n",
    "\n"
   ]
  },
  {
   "cell_type": "code",
   "execution_count": 54,
   "metadata": {},
   "outputs": [
    {
     "name": "stdout",
     "output_type": "stream",
     "text": [
      "This car has 0 miles on it\n",
      "you can't roll back an odometer\n",
      "This car has 9 miles on it\n"
     ]
    }
   ],
   "source": [
    "#add a little logic\n",
    "#modifying an attribut's value through a method\n",
    "# setting a default value for an attribute\n",
    "class car():\n",
    "    def __init__(self,make,model,year):\n",
    "        self.make=make\n",
    "        self.model=model\n",
    "        self.year=year\n",
    "        self.odometer_reading=0\n",
    "    def get_des_name(self):\n",
    "        long_name=str(self.year)+' '+self.make+' '+self.model\n",
    "        return long_name.title()\n",
    "    def update_odometer(self,mileage):\n",
    "        if mileage>=self.odometer_reading:\n",
    "            self.odometer_reading=mileage\n",
    "        else:\n",
    "            print(\"you can't roll back an odometer\")\n",
    "    def read_odometer(self):\n",
    "        print(\"This car has \"+str(self.odometer_reading)+\" miles on it\")\n",
    "my_car=car('audi','a4',2016)\n",
    "my_car.get_des_name()\n",
    "my_car.read_odometer()\n",
    "my_car.update_odometer(-1)\n",
    "my_car.update_odometer(9)\n",
    "my_car.read_odometer()"
   ]
  },
  {
   "cell_type": "code",
   "execution_count": 66,
   "metadata": {},
   "outputs": [
    {
     "data": {
      "text/plain": [
       "'2013 Subaru Outback'"
      ]
     },
     "execution_count": 66,
     "metadata": {},
     "output_type": "execute_result"
    }
   ],
   "source": [
    "#incrementing an attribute's value through method\n",
    "#add a little logic\n",
    "#modifying an attribut's value through a method\n",
    "# setting a default value for an attribute\n",
    "class car():\n",
    "    def __init__(self,make,model,year):#初始化\n",
    "        self.make=make\n",
    "        self.model=model\n",
    "        self.year=year\n",
    "        self.odometer_reading=0\n",
    "    def get_des_name(self):#读取汽车信息\n",
    "        long_name=str(self.year)+' '+self.make+' '+self.model\n",
    "        return long_name.title()\n",
    "    def update_odometer(self,mileage):#更新里程数\n",
    "        if mileage>=self.odometer_reading:\n",
    "            self.odometer_reading=mileage\n",
    "        else:\n",
    "            print(\"you can't roll back an odometer\")\n",
    "    def increment_odometer(self,miles):#增加里程数\n",
    "        self.odometer_reading+=miles\n",
    "    def read_odometer(self):#读取里程数\n",
    "        print(\"This car has \"+str(self.odometer_reading)+\" miles on it\")\n",
    "car1=car('subaru', 'outback', 2013)\n",
    "car1.get_des_name()"
   ]
  },
  {
   "cell_type": "code",
   "execution_count": 67,
   "metadata": {},
   "outputs": [
    {
     "name": "stdout",
     "output_type": "stream",
     "text": [
      "This car has 0 miles on it\n"
     ]
    }
   ],
   "source": [
    "car1.read_odometer()"
   ]
  },
  {
   "cell_type": "code",
   "execution_count": 69,
   "metadata": {},
   "outputs": [
    {
     "name": "stdout",
     "output_type": "stream",
     "text": [
      "This car has 34 miles on it\n"
     ]
    }
   ],
   "source": [
    "car1.update_odometer(34)\n",
    "car1.read_odometer()"
   ]
  },
  {
   "cell_type": "code",
   "execution_count": 70,
   "metadata": {},
   "outputs": [
    {
     "name": "stdout",
     "output_type": "stream",
     "text": [
      "This car has 36 miles on it\n"
     ]
    }
   ],
   "source": [
    "car1.increment_odometer(2)\n",
    "car1.read_odometer()"
   ]
  },
  {
   "cell_type": "code",
   "execution_count": 84,
   "metadata": {},
   "outputs": [
    {
     "name": "stdout",
     "output_type": "stream",
     "text": [
      "restaurant name: moon,restaurant type: small\n"
     ]
    }
   ],
   "source": [
    "#练习9-1\n",
    "#练习9-1\n",
    "class restaurant():\n",
    "    def __init__(self,res_name,res_type):\n",
    "        self.res_name=res_name\n",
    "        self.res_type=res_type\n",
    "        self.number_served=0\n",
    "    def des_restaurant(self):\n",
    "        print(\"restaurant name: \"+self.res_name+','+\"restaurant type: \"+self.res_type)\n",
    "    def open_restaurant(self):\n",
    "        print(\"the restaurant is open\")\n",
    "    def read_number_served(self):\n",
    "        print(\"the served number is \"+str(self.number_served))\n",
    "res1=restaurant('moon','small')\n",
    "res1.des_restaurant()"
   ]
  },
  {
   "cell_type": "code",
   "execution_count": 83,
   "metadata": {},
   "outputs": [
    {
     "name": "stdout",
     "output_type": "stream",
     "text": [
      "the restaurant is open\n"
     ]
    }
   ],
   "source": [
    "res1.open_restaurant()"
   ]
  },
  {
   "cell_type": "code",
   "execution_count": 85,
   "metadata": {},
   "outputs": [
    {
     "name": "stdout",
     "output_type": "stream",
     "text": [
      "the served number is 0\n"
     ]
    }
   ],
   "source": [
    "res1.read_number_served()"
   ]
  },
  {
   "cell_type": "code",
   "execution_count": 91,
   "metadata": {},
   "outputs": [
    {
     "name": "stdout",
     "output_type": "stream",
     "text": [
      "the served number is 0\n"
     ]
    }
   ],
   "source": [
    "#set number function\n",
    "class restaurant():\n",
    "    def __init__(self,res_name,res_type):\n",
    "        self.res_name=res_name\n",
    "        self.res_type=res_type\n",
    "        self.number_served=0\n",
    "    def des_restaurant(self):\n",
    "        print(\"restaurant name: \"+self.res_name+','+\"restaurant type: \"+self.res_type)\n",
    "    def open_restaurant(self):\n",
    "        print(\"the restaurant is open\")\n",
    "    def set_number(self,number):\n",
    "        self.number_served=number\n",
    "    def increment_number_served(self,number):\n",
    "        self.number_served+=number\n",
    "    def read_number_served(self):\n",
    "        print(\"the served number is \"+str(self.number_served)) \n",
    "res1=restaurant('moon','small')\n",
    "res1.read_number_served()"
   ]
  },
  {
   "cell_type": "code",
   "execution_count": 89,
   "metadata": {},
   "outputs": [
    {
     "name": "stdout",
     "output_type": "stream",
     "text": [
      "the served number is 1\n"
     ]
    }
   ],
   "source": [
    "res1.set_number(1)\n",
    "res1.read_number_served()"
   ]
  },
  {
   "cell_type": "code",
   "execution_count": 92,
   "metadata": {},
   "outputs": [
    {
     "name": "stdout",
     "output_type": "stream",
     "text": [
      "the served number is 2\n"
     ]
    }
   ],
   "source": [
    "res1.increment_number_served(2)\n",
    "res1.read_number_served()"
   ]
  },
  {
   "cell_type": "code",
   "execution_count": 33,
   "metadata": {},
   "outputs": [
    {
     "name": "stdout",
     "output_type": "stream",
     "text": [
      "2016 Tesla Model S\n",
      "This car has a70-kmh battery\n",
      "This car doesn't need a gas tank\n"
     ]
    }
   ],
   "source": [
    "class car():\n",
    "    def __init__(self,make,model,year):#初始化\n",
    "        self.make=make\n",
    "        self.model=model\n",
    "        self.year=year\n",
    "        self.odometer_reading=0\n",
    "    def get_des_name(self):#读取汽车信息\n",
    "        long_name=str(self.year)+' '+self.make+' '+self.model\n",
    "        return long_name.title()\n",
    "    def update_odometer(self,mileage):#更新里程数\n",
    "        if mileage>=self.odometer_reading:\n",
    "            self.odometer_reading=mileage\n",
    "        else:\n",
    "            print(\"you can't roll back an odometer\")\n",
    "    def increment_odometer(self,miles):#增加里程数\n",
    "        self.odometer_reading+=miles\n",
    "    def read_odometer(self):#读取里程数\n",
    "        print(\"This car has \"+str(self.odometer_reading)+\" miles on it\")\n",
    "class ElectricCar(car):\n",
    "    def __init__(self,make,model,year):\n",
    "        super().__init__(make,model,year)\n",
    "        self.battery_size=70\n",
    "    def des_battery(self):\n",
    "        print(\"This car has a\"+str(self.battery_size)+\"-kmh battery\")\n",
    "    def fill_gas_tank(self):#ovrriding methods from the parent class\n",
    "        print(\"This car doesn't need a gas tank\")\n",
    "my_tesla=ElectricCar('tesla','model s',2016)\n",
    "print(my_testa.get_des_name())\n",
    "my_tesla.des_battery()\n",
    "my_tesla.fill_gas_tank()"
   ]
  },
  {
   "cell_type": "code",
   "execution_count": 49,
   "metadata": {},
   "outputs": [
    {
     "name": "stdout",
     "output_type": "stream",
     "text": [
      "This car has 0 miles on it\n",
      "This car has a 70-kwh battery\n",
      "This car can go approximately 240miles on a full charge\n"
     ]
    }
   ],
   "source": [
    "class Car():\n",
    "    def __init__(self,make,model,year):#初始化\n",
    "        self.make=make\n",
    "        self.model=model\n",
    "        self.year=year\n",
    "        self.odometer_reading=0\n",
    "    def get_des_name(self):#读取汽车信息\n",
    "        long_name=str(self.year)+' '+self.make+' '+self.model\n",
    "        return long_name.title()\n",
    "    def update_odometer(self,mileage):#更新里程数\n",
    "        if mileage>=self.odometer_reading:\n",
    "            self.odometer_reading=mileage\n",
    "        else:\n",
    "            print(\"you can't roll back an odometer\")\n",
    "    def increment_odometer(self,miles):#增加里程数\n",
    "        self.odometer_reading+=miles\n",
    "    def read_odometer(self):#读取里程数\n",
    "        print(\"This car has \"+str(self.odometer_reading)+\" miles on it\")\n",
    "class ElectricCar(car):\n",
    "    def __init__(self,make,model,year):\n",
    "        super().__init__(make,model,year)\n",
    "        self.battery=Battery()\n",
    "#instance as attributes\n",
    "class Battery():\n",
    "    def __init__(self,battery_size=70):\n",
    "        self.battery_size=battery_size\n",
    "    def des_battery(self):\n",
    "        print(\"This car has a \"+str(self.battery_size)+\"-kwh battery\")\n",
    "    def get_range(self):\n",
    "        if self.battery_size==70:\n",
    "            range=240\n",
    "        elif self.battery_size==85:\n",
    "            range=270\n",
    "        message=\"This car can go approximately \"+str(range)\n",
    "        message+=\"miles on a full charge\"\n",
    "        print(message)\n",
    "my_tesla=ElectricCar('tesla','model s',2016)\n",
    "my_tesla.read_odometer()\n",
    "my_tesla.battery.des_battery()\n",
    "my_tesla.battery.get_range()"
   ]
  },
  {
   "cell_type": "code",
   "execution_count": 84,
   "metadata": {},
   "outputs": [
    {
     "name": "stdout",
     "output_type": "stream",
     "text": [
      "restaurant name: koko,restaurant type: small\n",
      "the restaurant is open\n",
      "the served number is 0\n",
      "the flavors of icecream: apple\n",
      "the flavors of icecream: sweet\n",
      "the flavors of icecream: acid\n"
     ]
    }
   ],
   "source": [
    "#练习9-6\n",
    "class Restaurant():\n",
    "    def __init__(self,res_name,res_type):\n",
    "        self.res_name=res_name\n",
    "        self.res_type=res_type\n",
    "        self.number_served=0\n",
    "    def des_restaurant(self):\n",
    "        print(\"restaurant name: \"+self.res_name+','+\"restaurant type: \"+self.res_type)\n",
    "    def open_restaurant(self):\n",
    "        print(\"the restaurant is open\")\n",
    "    def read_number_served(self):\n",
    "        print(\"the served number is \"+str(self.number_served))\n",
    "class IceCreamStand(Restaurant):\n",
    "    def __init__(self,res_name,res_type,*flavors):#定义函数\n",
    "        super().__init__(res_name,res_type)#继承父class\n",
    "        self.flavors=flavors\n",
    "    def print(self):\n",
    "        for  flavor in flavors:\n",
    "            print(\"the flavors of icecream: \"+flavor)\n",
    "flavors=['apple','sweet','acid']\n",
    "myice=IceCreamStand('koko','small',flavors)\n",
    "myice.des_restaurant()\n",
    "myice.open_restaurant()\n",
    "myice.read_number_served()\n",
    "myice.print()"
   ]
  },
  {
   "cell_type": "code",
   "execution_count": 167,
   "metadata": {},
   "outputs": [
    {
     "name": "stdout",
     "output_type": "stream",
     "text": [
      "{'first name': 'liu', 'last name': 'yanan', 'age': 24, 'role': 'student'}\n",
      "Hello, liu yanan\n",
      "None\n",
      "用户权限: can_delete_post can_add_post can_ban_user "
     ]
    }
   ],
   "source": [
    "#练习9-7\n",
    "class User:#不继承不需要括号\n",
    "    def __init__(self,first_name,last_name,**other_info):\n",
    "        self.first_name=first_name\n",
    "        self.last_name=last_name\n",
    "        self.other_info=other_info\n",
    "    def des_user(self):\n",
    "        profile={}\n",
    "        profile['first name']=self.first_name\n",
    "        profile['last name']=self.last_name\n",
    "        for key,value in self.other_info.items():\n",
    "            profile[key]=value\n",
    "        return profile\n",
    "    def greet_user(self):\n",
    "        print(\"Hello, \"+self.first_name+' '+self.last_name)\n",
    "class  Admin(User):\n",
    "    def __init__(self,first_name,last_name,*privileges,**other_info):\n",
    "        super().__init__(first_name,last_name,**other_info)\n",
    "        self.privileges=privileges\n",
    "    def show_privileges(self):\n",
    "            print(\"用户权限: \" , end='')\n",
    "            for _ in self.privileges:\n",
    "                print(_,end=' ')#加入空格让权限分开       \n",
    "yanan=Admin('liu','yanan','can_delete_post','can_add_post','can_ban_user',age=24,role='student')\n",
    "print(yanan.des_user())\n",
    "print(yanan.greet_user())\n",
    "yanan.show_privileges()\n",
    "\n",
    "        \n"
   ]
  },
  {
   "cell_type": "code",
   "execution_count": 118,
   "metadata": {},
   "outputs": [
    {
     "name": "stdout",
     "output_type": "stream",
     "text": [
      "Hello, liu yanan\n"
     ]
    }
   ],
   "source": [
    "user1.greet_user()"
   ]
  },
  {
   "cell_type": "code",
   "execution_count": 172,
   "metadata": {},
   "outputs": [
    {
     "name": "stdout",
     "output_type": "stream",
     "text": [
      "{'first name': 'liu', 'last name': 'yanan', 'age': 24, 'role': 'student'}\n",
      "Hello, liu yanan\n",
      "None\n",
      "用户权限: can_delete_users can_add_post can_ban_user "
     ]
    }
   ],
   "source": [
    "#练习9-7#privileges 独立成新的class\n",
    "class User:#不继承不需要括号\n",
    "    def __init__(self,first_name,last_name,**other_info):\n",
    "        self.first_name=first_name\n",
    "        self.last_name=last_name\n",
    "        self.other_info=other_info\n",
    "    def des_user(self):\n",
    "        profile={}\n",
    "        profile['first name']=self.first_name\n",
    "        profile['last name']=self.last_name\n",
    "        for key,value in self.other_info.items():\n",
    "            profile[key]=value\n",
    "        return profile\n",
    "    def greet_user(self):\n",
    "        print(\"Hello, \"+self.first_name+' '+self.last_name)\n",
    "class  Admin(User):\n",
    "    def __init__(self,first_name,last_name,**other_info):\n",
    "        super().__init__(first_name,last_name,**other_info)\n",
    "        self.privileges=Pri()\n",
    "class Pri():#将previliges设置成class\n",
    "    def __init__(self,*user_privileges):\n",
    "        self.user_privileges=('can_delete_users','can_add_post','can_ban_user')\n",
    "    def show_privileges(self):\n",
    "            print(\"用户权限: \" , end='')\n",
    "            for _ in self.user_privileges:\n",
    "                print(_,end=' ')#加入空格让权限分开       \n",
    "yanan=Admin('liu','yanan',age=24,role='student')\n",
    "print(yanan.des_user())\n",
    "print(yanan.greet_user())\n",
    "yanan.privileges.show_privileges()"
   ]
  },
  {
   "cell_type": "code",
   "execution_count": null,
   "metadata": {},
   "outputs": [],
   "source": []
  },
  {
   "cell_type": "code",
   "execution_count": null,
   "metadata": {},
   "outputs": [],
   "source": []
  },
  {
   "cell_type": "code",
   "execution_count": null,
   "metadata": {},
   "outputs": [],
   "source": []
  }
 ],
 "metadata": {
  "kernelspec": {
   "display_name": "Python 3",
   "language": "python",
   "name": "python3"
  },
  "language_info": {
   "codemirror_mode": {
    "name": "ipython",
    "version": 3
   },
   "file_extension": ".py",
   "mimetype": "text/x-python",
   "name": "python",
   "nbconvert_exporter": "python",
   "pygments_lexer": "ipython3",
   "version": "3.6.4"
  }
 },
 "nbformat": 4,
 "nbformat_minor": 2
}
